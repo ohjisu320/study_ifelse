{
  "nbformat": 4,
  "nbformat_minor": 0,
  "metadata": {
    "colab": {
      "provenance": [],
      "authorship_tag": "ABX9TyOf80woD68+/PdLtp5RGJmS",
      "include_colab_link": true
    },
    "kernelspec": {
      "name": "python3",
      "display_name": "Python 3"
    },
    "language_info": {
      "name": "python"
    }
  },
  "cells": [
    {
      "cell_type": "markdown",
      "metadata": {
        "id": "view-in-github",
        "colab_type": "text"
      },
      "source": [
        "<a href=\"https://colab.research.google.com/github/ohjisu320/study_ifelse/blob/main/quests_if_elif_elses_if_elif_else_quest_ohjisu.ipynb\" target=\"_parent\"><img src=\"https://colab.research.google.com/assets/colab-badge.svg\" alt=\"Open In Colab\"/></a>"
      ]
    },
    {
      "cell_type": "code",
      "execution_count": 8,
      "metadata": {
        "colab": {
          "base_uri": "https://localhost:8080/"
        },
        "id": "wnfpMACWu572",
        "outputId": "a73ec5b6-94a7-4bb3-be69-90c6b4bc7911"
      },
      "outputs": [
        {
          "output_type": "stream",
          "name": "stdout",
          "text": [
            "D\n"
          ]
        }
      ],
      "source": [
        "#if elif else with 숫자\n",
        "\n",
        "#점수가 100만점에\n",
        "#90점 이상이면 A\n",
        "#80점 이상이면 B\n",
        "#70점 이상이면 C\n",
        "#60점 이상이면 D\n",
        "#60점 미만이면 F\n",
        "\n",
        "score=65\n",
        "\n",
        "if(score>=90):\n",
        "  pass\n",
        "  print(\"A\")\n",
        "elif (score>=80) :\n",
        "  pass\n",
        "  print(\"B\")\n",
        "elif(score>=70) :\n",
        "  pass\n",
        "  print(\"C\")\n",
        "elif(score>=60) :\n",
        "  pass\n",
        "  print(\"D\")\n",
        "else:\n",
        "  pass\n",
        "  print(\"F\")"
      ]
    },
    {
      "cell_type": "code",
      "source": [],
      "metadata": {
        "id": "Gs2N7qZRv0fk"
      },
      "execution_count": null,
      "outputs": []
    }
  ]
}