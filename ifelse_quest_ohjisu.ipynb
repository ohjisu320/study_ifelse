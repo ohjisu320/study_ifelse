{
  "nbformat": 4,
  "nbformat_minor": 0,
  "metadata": {
    "colab": {
      "provenance": [],
      "authorship_tag": "ABX9TyOtf6nDgH1biI7XUB7WCBJc",
      "include_colab_link": true
    },
    "kernelspec": {
      "name": "python3",
      "display_name": "Python 3"
    },
    "language_info": {
      "name": "python"
    }
  },
  "cells": [
    {
      "cell_type": "markdown",
      "metadata": {
        "id": "view-in-github",
        "colab_type": "text"
      },
      "source": [
        "<a href=\"https://colab.research.google.com/github/ohjisu320/study_ifelse/blob/main/ifelse_quest_ohjisu.ipynb\" target=\"_parent\"><img src=\"https://colab.research.google.com/assets/colab-badge.svg\" alt=\"Open In Colab\"/></a>"
      ]
    },
    {
      "cell_type": "code",
      "execution_count": null,
      "metadata": {
        "colab": {
          "base_uri": "https://localhost:8080/"
        },
        "id": "AaMb6yIVZJnU",
        "outputId": "199697c2-a32e-4ab7-ad55-732643eff22f"
      },
      "outputs": [
        {
          "output_type": "stream",
          "name": "stdout",
          "text": [
            "right\n"
          ]
        }
      ],
      "source": [
        "#quest\n",
        "distance=54\n",
        "if(distance>=60) :\n",
        "  pass\n",
        "  print(\"left\")\n",
        "else:\n",
        "  pass\n",
        "  print(\"right\")"
      ]
    },
    {
      "cell_type": "code",
      "source": [
        "\"\""
      ],
      "metadata": {
        "id": "OIw0ZRxXbC9v"
      },
      "execution_count": null,
      "outputs": []
    }
  ]
}